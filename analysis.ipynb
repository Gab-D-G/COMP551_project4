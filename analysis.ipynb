{
 "cells": [
  {
   "cell_type": "code",
   "execution_count": 1,
   "metadata": {},
   "outputs": [],
   "source": [
    "import matplotlib.pyplot as plt\n",
    "import numpy as np\n",
    "import pandas as pd\n",
    "import os\n",
    "import pickle"
   ]
  },
  {
   "cell_type": "markdown",
   "metadata": {},
   "source": [
    "###load features"
   ]
  },
  {
   "cell_type": "code",
   "execution_count": 2,
   "metadata": {},
   "outputs": [],
   "source": [
    "filename='data/small_enc_features.pkl'\n",
    "with open(filename, 'rb') as handle:\n",
    "    small_enc_features=pickle.load(handle)\n",
    "filename='data/enc_features.pkl'\n",
    "with open(filename, 'rb') as handle:\n",
    "    enc_features=pickle.load(handle)\n",
    "filename='data/pca1800_features.pkl'\n",
    "with open(filename, 'rb') as handle:\n",
    "    pca_features=pickle.load(handle)\n",
    "\n",
    "filename='data/NZ_del20.pkl' #deleted 20% images with lower NZ count\n",
    "with open(filename, 'rb') as handle:\n",
    "    subset_dict=pickle.load(handle)\n",
    "GO_terms=subset_dict['GO_terms']\n",
    "gene_id=subset_dict['gene_id']\n",
    "del subset_dict\n"
   ]
  },
  {
   "cell_type": "markdown",
   "metadata": {},
   "source": [
    "##look if same gene id gives higher similarity"
   ]
  },
  {
   "cell_type": "code",
   "execution_count": 3,
   "metadata": {},
   "outputs": [],
   "source": [
    "from sklearn.metrics.pairwise import cosine_similarity\n",
    "enc_sim=cosine_similarity(enc_features)\n",
    "small_sim=cosine_similarity(small_enc_features)\n",
    "pca_sim=cosine_similarity(pca_features)\n",
    "del pca_features, enc_features, small_enc_features"
   ]
  },
  {
   "cell_type": "code",
   "execution_count": 4,
   "metadata": {},
   "outputs": [
    {
     "name": "stdout",
     "output_type": "stream",
     "text": [
      "0\n",
      "1000\n",
      "2000\n",
      "3000\n",
      "4000\n",
      "5000\n",
      "6000\n",
      "7000\n",
      "8000\n",
      "9000\n"
     ]
    }
   ],
   "source": [
    "sim_pairs=[]\n",
    "sim_dif=[]\n",
    "for i in range(10000):\n",
    "    for j in range(i):\n",
    "        if gene_id[i]==gene_id[j]:\n",
    "            sim_pairs.append([enc_sim[i,j],small_sim[i,j],pca_sim[i,j]])\n",
    "        else:\n",
    "            sim_dif.append([enc_sim[i,j],small_sim[i,j],pca_sim[i,j]])\n",
    "    if i%1000==0:\n",
    "        print(i)"
   ]
  },
  {
   "cell_type": "code",
   "execution_count": 6,
   "metadata": {},
   "outputs": [],
   "source": [
    "sim_pairs=np.asarray(sim_pairs)\n",
    "sim_dif=np.asarray(sim_dif)\n"
   ]
  },
  {
   "cell_type": "code",
   "execution_count": 19,
   "metadata": {},
   "outputs": [
    {
     "data": {
      "image/png": "[encoded data removed]",
      "text/plain": [
       "<Figure size 432x288 with 1 Axes>"
      ]
     },
     "metadata": {
      "needs_background": "light"
     },
     "output_type": "display_data"
    }
   ],
   "source": [
    "import seaborn as sns\n",
    "sns.distplot(sim_dif[:,2]);\n",
    "sns.distplot(sim_pairs[:,2]);\n",
    "plt.legend(['Different gene', 'Same gene'])\n",
    "plt.xlabel('Cosine Similarity', fontsize=15)\n",
    "plt.savefig('pca_geneSim_cos.pdf')\n"
   ]
  },
  {
   "cell_type": "markdown",
   "metadata": {},
   "source": [
    "###determine if GO categories result in more features similarity"
   ]
  },
  {
   "cell_type": "code",
   "execution_count": 3,
   "metadata": {},
   "outputs": [],
   "source": [
    "'''\n",
    "PICK THE GO TERMS THAT SHOW UP IN BETWEEN 15 and 500 Slices\n",
    "'''\n",
    "def get_15to500_GO(GO_terms):\n",
    "    GO_annotations_nb = {}\n",
    "    for GO_list in GO_terms:\n",
    "        for GO_term in GO_list:\n",
    "            if GO_term in GO_annotations_nb:\n",
    "                GO_annotations_nb[GO_term] += 1\n",
    "            else:\n",
    "                GO_annotations_nb[GO_term] = 1\n",
    "\n",
    "    list15to500GO = []\n",
    "    list15to500values = []\n",
    "    for GO in GO_annotations_nb.keys():\n",
    "        if GO_annotations_nb[GO] >= 15 and GO_annotations_nb[GO] <= 500:\n",
    "            list15to500GO.append(GO)\n",
    "            list15to500values.append(GO_annotations_nb[GO])\n",
    "\n",
    "    GO_list=[]\n",
    "    for GO_term in list15to500GO:\n",
    "        image_list=[]\n",
    "        for image_GO in GO_terms:\n",
    "            if GO_term in image_GO:\n",
    "                image_list.append(1)\n",
    "            else:\n",
    "                image_list.append(0)\n",
    "        GO_list.append(image_list)\n",
    "    return np.asarray(GO_list), list15to500values, list15to500GO\n"
   ]
  },
  {
   "cell_type": "code",
   "execution_count": 4,
   "metadata": {},
   "outputs": [],
   "source": [
    "[GO_term_array, list15to500values, list15to500GO]=get_15to500_GO(GO_terms)"
   ]
  },
  {
   "cell_type": "code",
   "execution_count": null,
   "metadata": {},
   "outputs": [],
   "source": [
    "data=enc_features\n",
    "same_GO_correlations=[]\n",
    "dif_GO_correlations=[]\n",
    "GO_sims=[]\n",
    "for i in range(1,1000):\n",
    "    for j in range(i):\n",
    "        img_GO=GO_term_array[:,i]\n",
    "        idx_1=(img_GO==1)\n",
    "        img_GO=GO_term_array[:,j]\n",
    "        idx_2=(img_GO==1)\n",
    "        if np.sum(idx_1*idx_2)>15:\n",
    "            continue\n",
    "        else:\n",
    "            a=data[i,:].reshape(-1)\n",
    "            b=data[j,:].reshape(-1)\n",
    "            dist=np.corrcoef(a,b)[0,1]\n",
    "            dif_GO_correlations.append(dist)\n",
    "    if i%100==0:\n",
    "        print(i)\n",
    "for i in range(1,10000):\n",
    "    for j in range(i):\n",
    "        #evaluating similarity based on proportion of GO annotations that are shared\n",
    "        img_GO=GO_term_array[:,i]\n",
    "        idx_1=(img_GO==1)\n",
    "        img_GO=GO_term_array[:,j]\n",
    "        idx_2=(img_GO==1)\n",
    "        if np.sum(idx_1*idx_2)>15:\n",
    "            GO_sim=np.sum(idx_1*idx_2)/(np.sum(idx_1)+np.sum(idx_2))\n",
    "            GO_sims.append(GO_sim)\n",
    "            a=data[i,:].reshape(-1)\n",
    "            b=data[j,:].reshape(-1)\n",
    "            dist=np.corrcoef(a,b)[0,1]\n",
    "            same_GO_correlations.append(dist)\n",
    "        else:\n",
    "            continue\n",
    "GO_sims=np.asarray(GO_sims)\n",
    "same_GO_correlations=np.asarray(same_GO_correlations)\n",
    "dif_GO_correlations=np.asarray(dif_GO_correlations)\n"
   ]
  },
  {
   "cell_type": "code",
   "execution_count": null,
   "metadata": {},
   "outputs": [],
   "source": [
    "import seaborn as sns\n",
    "sns.distplot(same_GO_correlations);\n",
    "sns.distplot(dif_GO_correlations);\n",
    "plt.legend(['At least 15 GO in common', 'Less than 15 common GO'])\n",
    "#plt.savefig('enc_GOSim_corr.pdf')\n",
    "print(same_GO_correlations.mean())\n",
    "print(dif_GO_correlations.mean())\n"
   ]
  },
  {
   "cell_type": "markdown",
   "metadata": {},
   "source": [
    "####Analyze results from random search and from all GO term classification by the autoencoder"
   ]
  },
  {
   "cell_type": "code",
   "execution_count": 81,
   "metadata": {},
   "outputs": [],
   "source": [
    "#make a list of 100 random GO index\n",
    "length=GO_term_array.shape[0]\n",
    "import random\n",
    "idx_list=random.sample(range(0, length), 100)\n",
    "\n",
    "import csv\n",
    "\n",
    "csvfile='random_GO_idx.csv'\n",
    "#Assuming res is a flat list\n",
    "with open(csvfile, \"w\") as output:\n",
    "    writer = csv.writer(output, lineterminator='\\n')\n",
    "    for val in idx_list:\n",
    "        writer.writerow([val])"
   ]
  },
  {
   "cell_type": "code",
   "execution_count": 29,
   "metadata": {},
   "outputs": [],
   "source": [
    "#load the results from randomized search\n",
    "files=os.listdir('data/rs/')\n",
    "rs_GO_list=[]\n",
    "for file in files:\n",
    "    filename='data/rs/%s' % (str(file))\n",
    "    try:\n",
    "        with open(filename, 'rb') as handle:\n",
    "            data=pickle.load(handle)\n",
    "        rs_GO_list.append(data)\n",
    "    except:\n",
    "        continue\n",
    "\n",
    "rs_data=[]\n",
    "for data in rs_GO_list:\n",
    "    dictlist=[]\n",
    "    for key, value in data.items():\n",
    "        temp = value\n",
    "        dictlist.append(temp)\n",
    "    rs_data.append(dictlist)\n",
    "rs_data=np.asarray(rs_data)\n",
    "\n",
    "concat_rs=[]\n",
    "for key in range(rs_data.shape[1]):\n",
    "    concat_rs.append(rs_data[:,key,:].reshape(-1))\n",
    "    "
   ]
  },
  {
   "cell_type": "code",
   "execution_count": 30,
   "metadata": {},
   "outputs": [
    {
     "name": "stdout",
     "output_type": "stream",
     "text": [
      "l1 0.001 0.5561935796606968 0.09254783855640956\n",
      "0.8194266071370211\n",
      "l2 0.001 0.5682266522377498 0.0910417356651619\n",
      "0.844867499823186\n",
      "l1 0.01 0.5626945464256464 0.09066446620774585\n",
      "0.895433501260899\n",
      "l2 0.01 0.5683807250857555 0.09225121676730236\n",
      "0.8536930020630301\n",
      "l1 0.1 0.5691369632183534 0.09139151042565183\n",
      "0.8953912320701004\n",
      "l2 0.1 0.5660918014190789 0.09021964874821306\n",
      "0.8286624956647702\n",
      "l1 1 0.5684379548274959 0.09283891602754797\n",
      "0.883373214762536\n",
      "l2 1 0.565189807343464 0.0897584176322301\n",
      "0.8090099851113363\n",
      "l1 10 0.5678101418116271 0.0924969492446716\n",
      "0.8758759732948829\n",
      "l2 10 0.5651711572113235 0.08965283633866132\n",
      "0.8113035803151425\n"
     ]
    }
   ],
   "source": [
    "#print the mean performances for different hyperparameters\n",
    "penalties=['l1', 'l2']\n",
    "reg_params=[0.001,0.01,0.1,1,10]\n",
    "for reg_param in reg_params:\n",
    "    for penalty in penalties:\n",
    "        idx=np.where(((concat_rs[0]==reg_param) * (concat_rs[1]==penalty)))\n",
    "        import seaborn as sns\n",
    "#        plt.figure()\n",
    "#        sns.distplot(list(concat_rs[2][idx]));\n",
    "        print(penalty+' '+str(reg_param)+' '+str(concat_rs[2][idx].mean())+' '+str(concat_rs[2][idx].std()))\n",
    "        print(str(concat_rs[2][idx].max()))\n"
   ]
  },
  {
   "cell_type": "code",
   "execution_count": 43,
   "metadata": {},
   "outputs": [],
   "source": [
    "#make a list of chunks of 10 GO index to run in parallel\n",
    "length=GO_term_array.shape[0]\n",
    "chunk_list=[]\n",
    "for i in range(0,length, 10):\n",
    "    if i+10>length:\n",
    "        chunk_list.append(np.arange(i, length))\n",
    "        break\n",
    "    chunk_list.append(np.arange(i, i+10))\n"
   ]
  },
  {
   "cell_type": "code",
   "execution_count": 45,
   "metadata": {},
   "outputs": [],
   "source": [
    "#make a list of chunks of 10 GO index to run in parallel\n",
    "length=GO_term_array.shape[0]\n",
    "chunk_list=[]\n",
    "for i in range(0,length, 10):\n",
    "    if i+10>length:\n",
    "        chunk_list.append(np.arange(i, length))\n",
    "        break\n",
    "    chunk_list.append(np.arange(i, i+10))\n",
    "\n",
    "filename='GO_chunk.pkl'\n",
    "with open(filename, 'wb') as handle:\n",
    "    pickle.dump(chunk_list, handle)\n",
    "\n",
    "idx_list=np.arange(0,len(chunk_list))\n",
    "\n",
    "import csv\n",
    "csvfile='chunk_GO_idx.csv'\n",
    "#Assuming res is a flat list\n",
    "with open(csvfile, \"w\") as output:\n",
    "    writer = csv.writer(output, lineterminator='\\n')\n",
    "    for val in idx_list:\n",
    "        writer.writerow([val])\n",
    "        \n"
   ]
  },
  {
   "cell_type": "code",
   "execution_count": 13,
   "metadata": {},
   "outputs": [],
   "source": [
    "#load the results from randomized search\n",
    "files=os.listdir('data/pred/')\n",
    "GO_scores=[]\n",
    "for file in files:\n",
    "    filename='data/pred/%s' % (str(file))\n",
    "    with open(filename, 'rb') as handle:\n",
    "        data=pickle.load(handle)\n",
    "    GO_scores.append(data)\n",
    "\n",
    "scores=[]\n",
    "GO=[]\n",
    "GO_count=[]\n",
    "for i in GO_scores:\n",
    "    for j in i:\n",
    "        scores.append(j[0]['mean_test_score'][0])\n",
    "        GO_count.append(j[1])\n",
    "        GO.append(j[2])\n",
    "GO=np.asarray(GO)\n",
    "GO_count=np.asarray(GO_count)\n",
    "scores=np.asarray(scores)\n"
   ]
  },
  {
   "cell_type": "code",
   "execution_count": 14,
   "metadata": {},
   "outputs": [
    {
     "name": "stdout",
     "output_type": "stream",
     "text": [
      "[0.88814996 0.89278346 0.8966949  0.90602464 0.90677096 0.91018451\n",
      " 0.91318938 0.93917122 0.95127254 0.95388063 0.96453151 0.98006667\n",
      " 0.99402223 0.99402223 0.99402223]\n",
      "['GO:0005499' 'GO:0006491' 'GO:0004571' 'GO:0061564' 'GO:0072205'\n",
      " 'GO:1900271' 'GO:0098688' 'GO:0043292' 'GO:0004351' 'GO:0099509'\n",
      " 'GO:0072221' 'GO:0099534' 'GO:0099567' 'GO:0035502' 'GO:0072286']\n",
      "[20 27 24 25 19 26 32 24 19 21 18 33 17 17 17]\n"
     ]
    }
   ],
   "source": [
    "best_idx=np.argsort(scores)[-15:]\n",
    "best_scores=[scores[best_idx], GO[best_idx], GO_count[best_idx]]\n",
    "print(best_scores[0])\n",
    "print(best_scores[1])\n",
    "print(best_scores[2])\n"
   ]
  },
  {
   "cell_type": "code",
   "execution_count": 15,
   "metadata": {},
   "outputs": [],
   "source": [
    "enc_scores=scores"
   ]
  },
  {
   "cell_type": "code",
   "execution_count": 28,
   "metadata": {},
   "outputs": [
    {
     "data": {
      "image/png": "[encoded data removed]",
      "text/plain": [
       "<Figure size 432x288 with 1 Axes>"
      ]
     },
     "metadata": {
      "needs_background": "light"
     },
     "output_type": "display_data"
    }
   ],
   "source": [
    "#\n",
    "import seaborn as sns\n",
    "sns.distplot(scores);\n",
    "plt.xlabel('Mean 5-fold AUC', fontsize=15)\n",
    "plt.savefig('allGO_enc_AUC.pdf')"
   ]
  },
  {
   "cell_type": "markdown",
   "metadata": {},
   "source": [
    "###SIFT predictions across GO terms"
   ]
  },
  {
   "cell_type": "code",
   "execution_count": 60,
   "metadata": {},
   "outputs": [],
   "source": [
    "#load the results from randomized search\n",
    "files=os.listdir('sift_data/pred/')\n",
    "GO_scores=[]\n",
    "for file in files:\n",
    "    filename='sift_data/pred/%s' % (str(file))\n",
    "    with open(filename, 'rb') as handle:\n",
    "        data=pickle.load(handle)\n",
    "    GO_scores.append(data)\n",
    "\n",
    "scores=[]\n",
    "GO=[]\n",
    "for i in GO_scores:\n",
    "    for j in i:\n",
    "        scores.append(j[0]['mean_test_score'][0])\n",
    "        GO.append(j[1])\n",
    "GO=np.asarray(GO)\n",
    "scores=np.asarray(scores)\n"
   ]
  },
  {
   "cell_type": "code",
   "execution_count": 61,
   "metadata": {},
   "outputs": [
    {
     "name": "stdout",
     "output_type": "stream",
     "text": [
      "[0.69105008 0.69713801 0.70154924 0.70402474 0.7121028  0.71365773\n",
      " 0.71369075 0.71405954 0.7279863  0.73584217 0.73750075 0.75275255\n",
      " 0.75430018 0.7863646  0.79827359]\n",
      "['GO:0004950' 'GO:0070328' 'GO:0005550' 'GO:0045907' 'GO:0019236'\n",
      " 'GO:0045109' 'GO:0044306' 'GO:0010951' 'GO:0043029' 'GO:0005549'\n",
      " 'GO:0007608' 'GO:0004984' 'GO:0007614' 'GO:0050909' 'GO:0043292']\n"
     ]
    }
   ],
   "source": [
    "best_idx=np.argsort(scores)[-15:]\n",
    "best_scores=[scores[best_idx], GO[best_idx]]\n",
    "print(best_scores[0])\n",
    "print(best_scores[1])\n"
   ]
  },
  {
   "cell_type": "code",
   "execution_count": 12,
   "metadata": {},
   "outputs": [],
   "source": [
    "sift_scores=scores"
   ]
  },
  {
   "cell_type": "code",
   "execution_count": 17,
   "metadata": {},
   "outputs": [
    {
     "data": {
      "image/png": "[encoded data removed]",
      "text/plain": [
       "<Figure size 432x288 with 1 Axes>"
      ]
     },
     "metadata": {
      "needs_background": "light"
     },
     "output_type": "display_data"
    }
   ],
   "source": [
    "#\n",
    "import seaborn as sns\n",
    "sns.distplot(enc_scores);\n",
    "sns.distplot(sift_scores);\n",
    "plt.xlabel('Mean 5-fold AUC', fontsize=15)\n",
    "plt.legend(['Autoencoder', 'SIFT'])\n",
    "plt.savefig('allGO_both_AUC.pdf')"
   ]
  },
  {
   "cell_type": "markdown",
   "metadata": {},
   "source": [
    "####PREDICTIONS ON TOP 15 GO TERMS"
   ]
  },
  {
   "cell_type": "code",
   "execution_count": 49,
   "metadata": {},
   "outputs": [],
   "source": [
    "#load the results from randomized search\n",
    "files=os.listdir('data/pred/')\n",
    "GO_scores=[]\n",
    "for file in files:\n",
    "    filename='data/pred/%s' % (str(file))\n",
    "    with open(filename, 'rb') as handle:\n",
    "        data=pickle.load(handle)\n",
    "    GO_scores.append(data)\n",
    "\n",
    "scores=[]\n",
    "GO=[]\n",
    "GO_count=[]\n",
    "for i in GO_scores:\n",
    "    for j in i:\n",
    "        scores.append(j[0]['mean_test_score'][0])\n",
    "        GO_count.append(j[1])\n",
    "        GO.append(j[2])\n",
    "GO=np.asarray(GO)\n",
    "GO_count=np.asarray(GO_count)\n",
    "scores=np.asarray(scores)\n",
    "\n",
    "idx=np.argsort(scores)[-15:]\n"
   ]
  },
  {
   "cell_type": "code",
   "execution_count": 50,
   "metadata": {},
   "outputs": [],
   "source": [
    "list15to500GO=np.asarray(list15to500GO)\n",
    "top_GO=np.asarray(GO)[idx]\n",
    "idx_list=[]\n",
    "for GO in top_GO:\n",
    "    i=0\n",
    "    for list_GO in list15to500GO:\n",
    "        if list_GO==GO:\n",
    "            idx_list.append(i)\n",
    "        i+=1"
   ]
  },
  {
   "cell_type": "code",
   "execution_count": null,
   "metadata": {},
   "outputs": [],
   "source": [
    "from sklearn.pipeline import Pipeline\n",
    "from sklearn.model_selection import RandomizedSearchCV\n",
    "from sklearn.svm import LinearSVC\n",
    "\n",
    "pipe_LinearSVC = Pipeline([\n",
    "    ('clf', LinearSVC(penalty='l1', dual=False, C=0.1, class_weight=\"balanced\", max_iter=1000, random_state=0)),\n",
    "])\n",
    "\n",
    "'''\n",
    "Searching for hyperparameters with Randomized search\n",
    "'''\n",
    "\n",
    "params = {\"clf__penalty\": ['l1'],\n",
    "          \"clf__C\": [0.1]} \n",
    "\n",
    "seed = 551 # Setting a constant seed for repeatability.\n",
    "num_iter=1\n",
    "cv=5 #number of cross-validation folds\n",
    "pipe=pipe_LinearSVC \n",
    "\n",
    "X=enc_features\n",
    "scores=[]\n",
    "for i in idx_list:\n",
    "    Y=GO_term_array[i,:]\n",
    "    random_search = RandomizedSearchCV(pipe, param_distributions = params, scoring='roc_auc',cv=cv, verbose = 10, random_state = seed, n_iter = num_iter)\n",
    "    random_search.fit(X, Y)\n",
    "\n",
    "    #getting cross validation results\n",
    "    results=random_search.cv_results_\n",
    "    data = {\"mean_test_score\": list(results.get('mean_test_score').data),}\n",
    "\n",
    "    print(data[\"mean_test_score\"])\n",
    "    scores.append([data, list15to500values[i], list15to500GO[i]])\n"
   ]
  },
  {
   "cell_type": "code",
   "execution_count": 39,
   "metadata": {},
   "outputs": [],
   "source": [
    "filename='data/enc_scores.pkl'\n",
    "with open(filename, 'wb') as handle:\n",
    "    pickle.dump(scores, handle)\n",
    "    "
   ]
  },
  {
   "cell_type": "code",
   "execution_count": 56,
   "metadata": {},
   "outputs": [],
   "source": [
    "filename='data/enc_scores.pkl'\n",
    "with open(filename, 'rb') as handle:\n",
    "    enc_scores=pickle.load(handle)\n",
    "filename='data/small_enc_scores.pkl'\n",
    "with open(filename, 'rb') as handle:\n",
    "    small_enc_scores=pickle.load(handle)\n",
    "filename='data/pca_scores.pkl'\n",
    "with open(filename, 'rb') as handle:\n",
    "    pca_scores=pickle.load(handle)\n"
   ]
  },
  {
   "cell_type": "code",
   "execution_count": 68,
   "metadata": {},
   "outputs": [],
   "source": [
    "sift_best=best_scores\n",
    "final_scores=[]\n",
    "for i in range(15):\n",
    "    final_scores.append([enc_scores[i][2], enc_scores[i][0]['mean_test_score'][0], small_enc_scores[i][0]['mean_test_score'][0], pca_scores[i][0]['mean_test_score'][0], sift_best[1][i], sift_best[0][i]])\n",
    "                        "
   ]
  },
  {
   "cell_type": "code",
   "execution_count": 74,
   "metadata": {},
   "outputs": [],
   "source": [
    "columns=['Autoencoder Top 15 GO', 'Autoencoder Score', 'Small Autoencoder Score', 'PCA Score', 'SIFT Top 15 GO', 'SIFT Score']\n",
    "df=pd.DataFrame(final_scores, columns=columns)\n",
    "\n",
    "df.to_csv('final_scores.csv')"
   ]
  }
 ],
 "metadata": {
  "kernelspec": {
   "display_name": "Python 3",
   "language": "python",
   "name": "python3"
  },
  "language_info": {
   "codemirror_mode": {
    "name": "ipython",
    "version": 3
   },
   "file_extension": ".py",
   "mimetype": "text/x-python",
   "name": "python",
   "nbconvert_exporter": "python",
   "pygments_lexer": "ipython3",
   "version": "3.6.8"
  }
 },
 "nbformat": 4,
 "nbformat_minor": 2
}
