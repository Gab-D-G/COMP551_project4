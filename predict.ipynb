{
 "cells": [
  {
   "cell_type": "code",
   "execution_count": 125,
   "metadata": {},
   "outputs": [],
   "source": [
    "import os\n",
    "import pandas as pd\n",
    "import numpy as np\n",
    "import pickle\n",
    "import matplotlib.pyplot as plt\n",
    "from sklearn.pipeline import Pipeline\n",
    "from sklearn.preprocessing import Normalizer\n",
    "from sklearn.model_selection import RandomizedSearchCV\n",
    "from sklearn.svm import LinearSVC\n",
    "from scipy.stats import uniform\n",
    "from sklearn.metrics import confusion_matrix"
   ]
  },
  {
   "cell_type": "code",
   "execution_count": 126,
   "metadata": {},
   "outputs": [],
   "source": [
    "filename='data/data_info.pkl'\n",
    "with open(filename, 'rb') as handle:\n",
    "    info=pickle.load(handle)\n",
    "    \n",
    "keys=info.keys()\n",
    "GO_terms=[]\n",
    "genes=[]\n",
    "gene_image_file=[]\n",
    "gene_image_nz=[]\n",
    "images_list=[]\n",
    "for key in keys:\n",
    "    genes.append(info[key][0])\n",
    "    gene_image_nz.append(info[key][1])\n",
    "    gene_image_file.append(key)\n",
    "    images_list.append(info[key][2])\n",
    "    GO_terms.append(info[key][3])\n",
    "    \n",
    "#delete images/genes which are in the lowest 20% non-zero count\n",
    "geneNb=len(info)\n",
    "genes_array = np.array(genes)\n",
    "image_files = np.array(gene_image_file)\n",
    "image_nz = np.array(gene_image_nz)\n",
    "k = int(geneNb/5)\n",
    "idx = np.argpartition(image_nz, k)\n",
    "id_smallest = idx[:k]\n",
    "\n",
    "image_files_rem = image_files[idx[k:]]\n",
    "image_nz_rem = image_nz[idx[k:]]\n",
    "genes_rem = genes_array[idx[k:]]\n",
    "GO_terms_rem=np.asarray(GO_terms)[idx[k:]]\n",
    "images_list_rem=np.asarray(images_list)[idx[k:]]\n"
   ]
  },
  {
   "cell_type": "code",
   "execution_count": 127,
   "metadata": {},
   "outputs": [
    {
     "name": "stderr",
     "output_type": "stream",
     "text": [
      "/home/desgab/.local/easybuild/software/2017/Core/miniconda3/4.3.27/envs/comp551/lib/python3.6/site-packages/skimage/transform/_warps.py:105: UserWarning: The default mode, 'constant', will be changed to 'reflect' in skimage 0.15.\n",
      "  warn(\"The default mode, 'constant', will be changed to 'reflect' in \"\n"
     ]
    }
   ],
   "source": [
    "from skimage.transform import resize\n",
    "data_list=[]\n",
    "for gray_img in images_list_rem:\n",
    "    img=resize(gray_img, (140,300), anti_aliasing=True) #resize all images to 140x300\n",
    "    img=img*255 #multiply by 255 to scale images back to the same integer value distribution\n",
    "    img=np.asarray(img, dtype='uint8')\n",
    "    data_list.append(img)\n"
   ]
  },
  {
   "cell_type": "code",
   "execution_count": 128,
   "metadata": {},
   "outputs": [],
   "source": [
    "data_array=np.asarray(data_list)\n",
    "shape=data_array.shape\n",
    "X=data_array.reshape(shape[0], shape[1]*shape[2])"
   ]
  },
  {
   "cell_type": "code",
   "execution_count": 129,
   "metadata": {},
   "outputs": [],
   "source": [
    "X=X[:2000,:]"
   ]
  },
  {
   "cell_type": "code",
   "execution_count": 130,
   "metadata": {},
   "outputs": [
    {
     "data": {
      "text/plain": [
       "PCA(copy=True, iterated_power='auto', n_components=None, random_state=None,\n",
       "  svd_solver='auto', tol=0.0, whiten=False)"
      ]
     },
     "execution_count": 130,
     "metadata": {},
     "output_type": "execute_result"
    }
   ],
   "source": [
    "from sklearn.decomposition import PCA\n",
    "pca=PCA()\n",
    "pca.fit(X)\n",
    "transformed=pca.transform(X)\n"
   ]
  },
  {
   "cell_type": "code",
   "execution_count": 165,
   "metadata": {},
   "outputs": [
    {
     "name": "stdout",
     "output_type": "stream",
     "text": [
      "303\n"
     ]
    }
   ],
   "source": [
    "var_explained=pca.explained_variance_ratio_\n",
    "sum_ve=0\n",
    "num_comp=0\n",
    "while(sum_ve<0.95):\n",
    "    sum_ve+=var_explained[num_comp]\n",
    "    num_comp+=1\n",
    "print(num_comp)"
   ]
  },
  {
   "cell_type": "code",
   "execution_count": 166,
   "metadata": {},
   "outputs": [],
   "source": [
    "X_pca=transformed[:,:num_comp]"
   ]
  },
  {
   "cell_type": "code",
   "execution_count": 167,
   "metadata": {},
   "outputs": [],
   "source": [
    "filename='data/SIFT_data.pkl'\n",
    "with open(filename, 'rb') as handle:\n",
    "    SIFT_dict=pickle.load(handle)\n",
    "GO_terms_rem=SIFT_dict['GO_terms']\n",
    "GO_terms=GO_terms_rem[:2000]"
   ]
  },
  {
   "cell_type": "code",
   "execution_count": 168,
   "metadata": {},
   "outputs": [],
   "source": [
    "'''\n",
    "PICK THE GO TERMS THAT SHOW UP IN BETWEEN 50 and 500 Slices\n",
    "'''\n",
    "\n",
    "GO_annotations_nb = {}\n",
    "for GO_list in GO_terms:\n",
    "    for GO_term in GO_list:\n",
    "        if GO_term in GO_annotations_nb:\n",
    "            GO_annotations_nb[GO_term] += 1\n",
    "        else:\n",
    "            GO_annotations_nb[GO_term] = 1\n",
    "\n",
    "list50to500GO = []\n",
    "list50to500values = []\n",
    "for GO in GO_annotations_nb.keys():\n",
    "    if GO_annotations_nb[GO] > 51 and GO_annotations_nb[GO] < 501:\n",
    "        list50to500GO.append(GO)\n",
    "        list50to500values.append(GO_annotations_nb[GO])\n"
   ]
  },
  {
   "cell_type": "code",
   "execution_count": 169,
   "metadata": {},
   "outputs": [],
   "source": [
    "GO_list=[]\n",
    "for GO_term in list50to500GO:\n",
    "    image_list=[]\n",
    "    for image_GO in GO_terms:\n",
    "        if GO_term in image_GO:\n",
    "            image_list.append(1)\n",
    "        else:\n",
    "            image_list.append(0)\n",
    "    GO_list.append(image_list)\n",
    "\n",
    "GO_term_array=np.asarray(GO_list)"
   ]
  },
  {
   "cell_type": "code",
   "execution_count": 170,
   "metadata": {},
   "outputs": [],
   "source": [
    "def train_valid_split(X,Y):\n",
    "    idx_1=np.where(Y==1)[0]\n",
    "    np.random.shuffle(idx_1)\n",
    "    idx_0=np.where(Y==0)[0]\n",
    "    np.random.shuffle(idx_0)\n",
    "    train_idx=np.concatenate([idx_1[:int(len(idx_1)*0.8)],idx_0[:int(len(idx_0)*0.8)]])\n",
    "    valid_idx=np.concatenate([idx_1[int(len(idx_1)*0.8):],idx_0[int(len(idx_0)*0.8):]])\n",
    "\n",
    "    Y_train=Y[train_idx]\n",
    "    Y_valid=Y[valid_idx]\n",
    "    X_train=X[train_idx,:]\n",
    "    X_valid=X[valid_idx,:]\n",
    "    return X_train, X_valid, Y_train, Y_valid"
   ]
  },
  {
   "cell_type": "code",
   "execution_count": 175,
   "metadata": {},
   "outputs": [
    {
     "name": "stdout",
     "output_type": "stream",
     "text": [
      "0.09523809523809523\n",
      "0.5252824469550841\n",
      "0.33333333333333337\n",
      "0.6987148002619515\n"
     ]
    },
    {
     "name": "stderr",
     "output_type": "stream",
     "text": [
      "/home/desgab/.local/easybuild/software/2017/Core/miniconda3/4.3.27/envs/comp551/lib/python3.6/site-packages/sklearn/svm/base.py:931: ConvergenceWarning: Liblinear failed to converge, increase the number of iterations.\n",
      "  \"the number of iterations.\", ConvergenceWarning)\n"
     ]
    }
   ],
   "source": [
    "from sklearn import metrics\n",
    "Y=GO_term_array[1,:]\n",
    "#X=genes_features\n",
    "X=X_pca\n",
    "X_train, X_valid, Y_train, Y_valid=train_valid_split(X,Y)\n",
    "\n",
    "from sklearn.linear_model import LogisticRegression\n",
    "#model=LogisticRegression(penalty='l2', dual=False, tol=0.0001, C=2.0, random_state=0, max_iter=1000)\n",
    "model=LinearSVC(loss='squared_hinge', penalty='l2',C=10, max_iter=3000, random_state=0)\n",
    "model.fit(X_train,Y_train)\n",
    "Y_pred=model.predict(X_valid)\n",
    "score = f1_score(Y_valid, Y_pred)\n",
    "print(score)\n",
    "score = metrics.roc_auc_score(Y_valid, Y_pred)\n",
    "print(score)\n",
    "Y_pred=model.predict(X_train)\n",
    "score = f1_score(Y_train, Y_pred)\n",
    "print(score)\n",
    "score = metrics.roc_auc_score(Y_train, Y_pred)\n",
    "print(score)\n"
   ]
  },
  {
   "cell_type": "code",
   "execution_count": 163,
   "metadata": {},
   "outputs": [
    {
     "name": "stderr",
     "output_type": "stream",
     "text": [
      "/home/desgab/.local/easybuild/software/2017/Core/miniconda3/4.3.27/envs/comp551/lib/python3.6/site-packages/sklearn/svm/base.py:931: ConvergenceWarning: Liblinear failed to converge, increase the number of iterations.\n",
      "  \"the number of iterations.\", ConvergenceWarning)\n"
     ]
    },
    {
     "name": "stdout",
     "output_type": "stream",
     "text": [
      "0.5444100447196422\n"
     ]
    },
    {
     "name": "stderr",
     "output_type": "stream",
     "text": [
      "/home/desgab/.local/easybuild/software/2017/Core/miniconda3/4.3.27/envs/comp551/lib/python3.6/site-packages/sklearn/svm/base.py:931: ConvergenceWarning: Liblinear failed to converge, increase the number of iterations.\n",
      "  \"the number of iterations.\", ConvergenceWarning)\n"
     ]
    },
    {
     "name": "stdout",
     "output_type": "stream",
     "text": [
      "0.5707495177734913\n"
     ]
    },
    {
     "name": "stderr",
     "output_type": "stream",
     "text": [
      "/home/desgab/.local/easybuild/software/2017/Core/miniconda3/4.3.27/envs/comp551/lib/python3.6/site-packages/sklearn/svm/base.py:931: ConvergenceWarning: Liblinear failed to converge, increase the number of iterations.\n",
      "  \"the number of iterations.\", ConvergenceWarning)\n"
     ]
    },
    {
     "name": "stdout",
     "output_type": "stream",
     "text": [
      "0.574204406364749\n"
     ]
    },
    {
     "name": "stderr",
     "output_type": "stream",
     "text": [
      "/home/desgab/.local/easybuild/software/2017/Core/miniconda3/4.3.27/envs/comp551/lib/python3.6/site-packages/sklearn/svm/base.py:931: ConvergenceWarning: Liblinear failed to converge, increase the number of iterations.\n",
      "  \"the number of iterations.\", ConvergenceWarning)\n"
     ]
    },
    {
     "name": "stdout",
     "output_type": "stream",
     "text": [
      "0.5006635441061671\n"
     ]
    },
    {
     "name": "stderr",
     "output_type": "stream",
     "text": [
      "/home/desgab/.local/easybuild/software/2017/Core/miniconda3/4.3.27/envs/comp551/lib/python3.6/site-packages/sklearn/svm/base.py:931: ConvergenceWarning: Liblinear failed to converge, increase the number of iterations.\n",
      "  \"the number of iterations.\", ConvergenceWarning)\n"
     ]
    },
    {
     "name": "stdout",
     "output_type": "stream",
     "text": [
      "0.5310899134428546\n"
     ]
    },
    {
     "name": "stderr",
     "output_type": "stream",
     "text": [
      "/home/desgab/.local/easybuild/software/2017/Core/miniconda3/4.3.27/envs/comp551/lib/python3.6/site-packages/sklearn/svm/base.py:931: ConvergenceWarning: Liblinear failed to converge, increase the number of iterations.\n",
      "  \"the number of iterations.\", ConvergenceWarning)\n"
     ]
    },
    {
     "name": "stdout",
     "output_type": "stream",
     "text": [
      "0.5406429391504018\n"
     ]
    },
    {
     "name": "stderr",
     "output_type": "stream",
     "text": [
      "/home/desgab/.local/easybuild/software/2017/Core/miniconda3/4.3.27/envs/comp551/lib/python3.6/site-packages/sklearn/svm/base.py:931: ConvergenceWarning: Liblinear failed to converge, increase the number of iterations.\n",
      "  \"the number of iterations.\", ConvergenceWarning)\n"
     ]
    },
    {
     "name": "stdout",
     "output_type": "stream",
     "text": [
      "0.4673713235294118\n"
     ]
    },
    {
     "name": "stderr",
     "output_type": "stream",
     "text": [
      "/home/desgab/.local/easybuild/software/2017/Core/miniconda3/4.3.27/envs/comp551/lib/python3.6/site-packages/sklearn/svm/base.py:931: ConvergenceWarning: Liblinear failed to converge, increase the number of iterations.\n",
      "  \"the number of iterations.\", ConvergenceWarning)\n"
     ]
    },
    {
     "name": "stdout",
     "output_type": "stream",
     "text": [
      "0.4623488773747841\n"
     ]
    },
    {
     "name": "stderr",
     "output_type": "stream",
     "text": [
      "/home/desgab/.local/easybuild/software/2017/Core/miniconda3/4.3.27/envs/comp551/lib/python3.6/site-packages/sklearn/svm/base.py:931: ConvergenceWarning: Liblinear failed to converge, increase the number of iterations.\n",
      "  \"the number of iterations.\", ConvergenceWarning)\n"
     ]
    },
    {
     "name": "stdout",
     "output_type": "stream",
     "text": [
      "0.5098543273350471\n"
     ]
    },
    {
     "name": "stderr",
     "output_type": "stream",
     "text": [
      "/home/desgab/.local/easybuild/software/2017/Core/miniconda3/4.3.27/envs/comp551/lib/python3.6/site-packages/sklearn/svm/base.py:931: ConvergenceWarning: Liblinear failed to converge, increase the number of iterations.\n",
      "  \"the number of iterations.\", ConvergenceWarning)\n"
     ]
    },
    {
     "name": "stdout",
     "output_type": "stream",
     "text": [
      "0.4926940639269406\n"
     ]
    },
    {
     "name": "stderr",
     "output_type": "stream",
     "text": [
      "/home/desgab/.local/easybuild/software/2017/Core/miniconda3/4.3.27/envs/comp551/lib/python3.6/site-packages/sklearn/svm/base.py:931: ConvergenceWarning: Liblinear failed to converge, increase the number of iterations.\n",
      "  \"the number of iterations.\", ConvergenceWarning)\n"
     ]
    },
    {
     "name": "stdout",
     "output_type": "stream",
     "text": [
      "0.5952616970658208\n"
     ]
    },
    {
     "name": "stderr",
     "output_type": "stream",
     "text": [
      "/home/desgab/.local/easybuild/software/2017/Core/miniconda3/4.3.27/envs/comp551/lib/python3.6/site-packages/sklearn/svm/base.py:931: ConvergenceWarning: Liblinear failed to converge, increase the number of iterations.\n",
      "  \"the number of iterations.\", ConvergenceWarning)\n"
     ]
    },
    {
     "name": "stdout",
     "output_type": "stream",
     "text": [
      "0.5398671096345515\n"
     ]
    },
    {
     "name": "stderr",
     "output_type": "stream",
     "text": [
      "/home/desgab/.local/easybuild/software/2017/Core/miniconda3/4.3.27/envs/comp551/lib/python3.6/site-packages/sklearn/svm/base.py:931: ConvergenceWarning: Liblinear failed to converge, increase the number of iterations.\n",
      "  \"the number of iterations.\", ConvergenceWarning)\n"
     ]
    },
    {
     "name": "stdout",
     "output_type": "stream",
     "text": [
      "0.5308231819859727\n"
     ]
    },
    {
     "name": "stderr",
     "output_type": "stream",
     "text": [
      "/home/desgab/.local/easybuild/software/2017/Core/miniconda3/4.3.27/envs/comp551/lib/python3.6/site-packages/sklearn/svm/base.py:931: ConvergenceWarning: Liblinear failed to converge, increase the number of iterations.\n",
      "  \"the number of iterations.\", ConvergenceWarning)\n"
     ]
    },
    {
     "name": "stdout",
     "output_type": "stream",
     "text": [
      "0.4252577319587629\n"
     ]
    },
    {
     "name": "stderr",
     "output_type": "stream",
     "text": [
      "/home/desgab/.local/easybuild/software/2017/Core/miniconda3/4.3.27/envs/comp551/lib/python3.6/site-packages/sklearn/svm/base.py:931: ConvergenceWarning: Liblinear failed to converge, increase the number of iterations.\n",
      "  \"the number of iterations.\", ConvergenceWarning)\n"
     ]
    },
    {
     "name": "stdout",
     "output_type": "stream",
     "text": [
      "0.5136482939632545\n"
     ]
    },
    {
     "ename": "KeyboardInterrupt",
     "evalue": "",
     "output_type": "error",
     "traceback": [
      "\u001b[0;31m---------------------------------------------------------------------------\u001b[0m",
      "\u001b[0;31mKeyboardInterrupt\u001b[0m                         Traceback (most recent call last)",
      "\u001b[0;32m<ipython-input-163-8160226857b6>\u001b[0m in \u001b[0;36m<module>\u001b[0;34m\u001b[0m\n\u001b[1;32m      6\u001b[0m     \u001b[0mY\u001b[0m\u001b[0;34m=\u001b[0m\u001b[0mGO_term_array\u001b[0m\u001b[0;34m[\u001b[0m\u001b[0mi\u001b[0m\u001b[0;34m,\u001b[0m\u001b[0;34m:\u001b[0m\u001b[0;34m]\u001b[0m\u001b[0;34m\u001b[0m\u001b[0;34m\u001b[0m\u001b[0m\n\u001b[1;32m      7\u001b[0m     \u001b[0mX_train\u001b[0m\u001b[0;34m,\u001b[0m \u001b[0mX_valid\u001b[0m\u001b[0;34m,\u001b[0m \u001b[0mY_train\u001b[0m\u001b[0;34m,\u001b[0m \u001b[0mY_valid\u001b[0m\u001b[0;34m=\u001b[0m\u001b[0mtrain_valid_split\u001b[0m\u001b[0;34m(\u001b[0m\u001b[0mX\u001b[0m\u001b[0;34m,\u001b[0m\u001b[0mY\u001b[0m\u001b[0;34m)\u001b[0m\u001b[0;34m\u001b[0m\u001b[0;34m\u001b[0m\u001b[0m\n\u001b[0;32m----> 8\u001b[0;31m     \u001b[0mmodel\u001b[0m\u001b[0;34m.\u001b[0m\u001b[0mfit\u001b[0m\u001b[0;34m(\u001b[0m\u001b[0mX_train\u001b[0m\u001b[0;34m,\u001b[0m\u001b[0mY_train\u001b[0m\u001b[0;34m)\u001b[0m\u001b[0;34m\u001b[0m\u001b[0;34m\u001b[0m\u001b[0m\n\u001b[0m\u001b[1;32m      9\u001b[0m     \u001b[0mY_pred\u001b[0m\u001b[0;34m=\u001b[0m\u001b[0mmodel\u001b[0m\u001b[0;34m.\u001b[0m\u001b[0mpredict\u001b[0m\u001b[0;34m(\u001b[0m\u001b[0mX_valid\u001b[0m\u001b[0;34m)\u001b[0m\u001b[0;34m\u001b[0m\u001b[0;34m\u001b[0m\u001b[0m\n\u001b[1;32m     10\u001b[0m     \u001b[0mscore\u001b[0m \u001b[0;34m=\u001b[0m \u001b[0mmetrics\u001b[0m\u001b[0;34m.\u001b[0m\u001b[0mroc_auc_score\u001b[0m\u001b[0;34m(\u001b[0m\u001b[0mY_valid\u001b[0m\u001b[0;34m,\u001b[0m \u001b[0mY_pred\u001b[0m\u001b[0;34m)\u001b[0m\u001b[0;34m\u001b[0m\u001b[0;34m\u001b[0m\u001b[0m\n",
      "\u001b[0;32m~/.local/easybuild/software/2017/Core/miniconda3/4.3.27/envs/comp551/lib/python3.6/site-packages/sklearn/svm/classes.py\u001b[0m in \u001b[0;36mfit\u001b[0;34m(self, X, y, sample_weight)\u001b[0m\n\u001b[1;32m    235\u001b[0m             \u001b[0mself\u001b[0m\u001b[0;34m.\u001b[0m\u001b[0mclass_weight\u001b[0m\u001b[0;34m,\u001b[0m \u001b[0mself\u001b[0m\u001b[0;34m.\u001b[0m\u001b[0mpenalty\u001b[0m\u001b[0;34m,\u001b[0m \u001b[0mself\u001b[0m\u001b[0;34m.\u001b[0m\u001b[0mdual\u001b[0m\u001b[0;34m,\u001b[0m \u001b[0mself\u001b[0m\u001b[0;34m.\u001b[0m\u001b[0mverbose\u001b[0m\u001b[0;34m,\u001b[0m\u001b[0;34m\u001b[0m\u001b[0;34m\u001b[0m\u001b[0m\n\u001b[1;32m    236\u001b[0m             \u001b[0mself\u001b[0m\u001b[0;34m.\u001b[0m\u001b[0mmax_iter\u001b[0m\u001b[0;34m,\u001b[0m \u001b[0mself\u001b[0m\u001b[0;34m.\u001b[0m\u001b[0mtol\u001b[0m\u001b[0;34m,\u001b[0m \u001b[0mself\u001b[0m\u001b[0;34m.\u001b[0m\u001b[0mrandom_state\u001b[0m\u001b[0;34m,\u001b[0m \u001b[0mself\u001b[0m\u001b[0;34m.\u001b[0m\u001b[0mmulti_class\u001b[0m\u001b[0;34m,\u001b[0m\u001b[0;34m\u001b[0m\u001b[0;34m\u001b[0m\u001b[0m\n\u001b[0;32m--> 237\u001b[0;31m             self.loss, sample_weight=sample_weight)\n\u001b[0m\u001b[1;32m    238\u001b[0m \u001b[0;34m\u001b[0m\u001b[0m\n\u001b[1;32m    239\u001b[0m         \u001b[0;32mif\u001b[0m \u001b[0mself\u001b[0m\u001b[0;34m.\u001b[0m\u001b[0mmulti_class\u001b[0m \u001b[0;34m==\u001b[0m \u001b[0;34m\"crammer_singer\"\u001b[0m \u001b[0;32mand\u001b[0m \u001b[0mlen\u001b[0m\u001b[0;34m(\u001b[0m\u001b[0mself\u001b[0m\u001b[0;34m.\u001b[0m\u001b[0mclasses_\u001b[0m\u001b[0;34m)\u001b[0m \u001b[0;34m==\u001b[0m \u001b[0;36m2\u001b[0m\u001b[0;34m:\u001b[0m\u001b[0;34m\u001b[0m\u001b[0;34m\u001b[0m\u001b[0m\n",
      "\u001b[0;32m~/.local/easybuild/software/2017/Core/miniconda3/4.3.27/envs/comp551/lib/python3.6/site-packages/sklearn/svm/base.py\u001b[0m in \u001b[0;36m_fit_liblinear\u001b[0;34m(X, y, C, fit_intercept, intercept_scaling, class_weight, penalty, dual, verbose, max_iter, tol, random_state, multi_class, loss, epsilon, sample_weight)\u001b[0m\n\u001b[1;32m    921\u001b[0m         \u001b[0mX\u001b[0m\u001b[0;34m,\u001b[0m \u001b[0my_ind\u001b[0m\u001b[0;34m,\u001b[0m \u001b[0msp\u001b[0m\u001b[0;34m.\u001b[0m\u001b[0misspmatrix\u001b[0m\u001b[0;34m(\u001b[0m\u001b[0mX\u001b[0m\u001b[0;34m)\u001b[0m\u001b[0;34m,\u001b[0m \u001b[0msolver_type\u001b[0m\u001b[0;34m,\u001b[0m \u001b[0mtol\u001b[0m\u001b[0;34m,\u001b[0m \u001b[0mbias\u001b[0m\u001b[0;34m,\u001b[0m \u001b[0mC\u001b[0m\u001b[0;34m,\u001b[0m\u001b[0;34m\u001b[0m\u001b[0;34m\u001b[0m\u001b[0m\n\u001b[1;32m    922\u001b[0m         \u001b[0mclass_weight_\u001b[0m\u001b[0;34m,\u001b[0m \u001b[0mmax_iter\u001b[0m\u001b[0;34m,\u001b[0m \u001b[0mrnd\u001b[0m\u001b[0;34m.\u001b[0m\u001b[0mrandint\u001b[0m\u001b[0;34m(\u001b[0m\u001b[0mnp\u001b[0m\u001b[0;34m.\u001b[0m\u001b[0miinfo\u001b[0m\u001b[0;34m(\u001b[0m\u001b[0;34m'i'\u001b[0m\u001b[0;34m)\u001b[0m\u001b[0;34m.\u001b[0m\u001b[0mmax\u001b[0m\u001b[0;34m)\u001b[0m\u001b[0;34m,\u001b[0m\u001b[0;34m\u001b[0m\u001b[0;34m\u001b[0m\u001b[0m\n\u001b[0;32m--> 923\u001b[0;31m         epsilon, sample_weight)\n\u001b[0m\u001b[1;32m    924\u001b[0m     \u001b[0;31m# Regarding rnd.randint(..) in the above signature:\u001b[0m\u001b[0;34m\u001b[0m\u001b[0;34m\u001b[0m\u001b[0;34m\u001b[0m\u001b[0m\n\u001b[1;32m    925\u001b[0m     \u001b[0;31m# seed for srand in range [0..INT_MAX); due to limitations in Numpy\u001b[0m\u001b[0;34m\u001b[0m\u001b[0;34m\u001b[0m\u001b[0;34m\u001b[0m\u001b[0m\n",
      "\u001b[0;31mKeyboardInterrupt\u001b[0m: "
     ]
    }
   ],
   "source": [
    "model=LinearSVC(loss='squared_hinge', penalty='l2',C=3, max_iter=3000, random_state=0)\n",
    "\n",
    "X=X_pca\n",
    "scores=[]\n",
    "for i in range(GO_term_array.shape[0]):\n",
    "    Y=GO_term_array[i,:]\n",
    "    X_train, X_valid, Y_train, Y_valid=train_valid_split(X,Y)\n",
    "    model.fit(X_train,Y_train)\n",
    "    Y_pred=model.predict(X_valid)\n",
    "    score = metrics.roc_auc_score(Y_valid, Y_pred)\n",
    "    scores.append(score)\n",
    "    print(score)\n",
    "    "
   ]
  },
  {
   "cell_type": "code",
   "execution_count": 59,
   "metadata": {},
   "outputs": [
    {
     "name": "stdout",
     "output_type": "stream",
     "text": [
      "0.015037593984962405\n"
     ]
    },
    {
     "name": "stderr",
     "output_type": "stream",
     "text": [
      "/home/desgab/.local/easybuild/software/2017/Core/miniconda3/4.3.27/envs/comp551/lib/python3.6/site-packages/sklearn/svm/base.py:931: ConvergenceWarning: Liblinear failed to converge, increase the number of iterations.\n",
      "  \"the number of iterations.\", ConvergenceWarning)\n"
     ]
    }
   ],
   "source": [
    "svm=LinearSVC(loss='squared_hinge', penalty='l2',C=10, max_iter=3000, random_state=0)\n",
    "svm.fit(X_train,Y_train)\n",
    "Y_pred=svm.predict(X_valid)\n",
    "\n",
    "from sklearn.metrics import f1_score\n",
    "score = f1_score(Y_valid, Y_pred)\n",
    "print(score)"
   ]
  },
  {
   "cell_type": "code",
   "execution_count": 46,
   "metadata": {},
   "outputs": [],
   "source": [
    "pipe_LinearSVC = Pipeline([\n",
    "#    ('norm', Normalizer(norm='l2')), #normalize the features with a l2 norm\n",
    "    ('clf', LinearSVC(loss='squared_hinge', penalty='l2',C=1.83, random_state=0)), #C is the inverse of regularization strength\n",
    "])"
   ]
  },
  {
   "cell_type": "code",
   "execution_count": 47,
   "metadata": {},
   "outputs": [
    {
     "name": "stdout",
     "output_type": "stream",
     "text": [
      "Fitting 2 folds for each of 2 candidates, totalling 4 fits\n",
      "[CV] clf__C=1.4600960718420557, clf__loss=hinge ......................\n"
     ]
    },
    {
     "name": "stderr",
     "output_type": "stream",
     "text": [
      "[Parallel(n_jobs=1)]: Using backend SequentialBackend with 1 concurrent workers.\n",
      "/home/desgab/.local/easybuild/software/2017/Core/miniconda3/4.3.27/envs/comp551/lib/python3.6/site-packages/sklearn/svm/base.py:931: ConvergenceWarning: Liblinear failed to converge, increase the number of iterations.\n",
      "  \"the number of iterations.\", ConvergenceWarning)\n",
      "[Parallel(n_jobs=1)]: Done   1 out of   1 | elapsed:    0.9s remaining:    0.0s\n"
     ]
    },
    {
     "name": "stdout",
     "output_type": "stream",
     "text": [
      "[CV]  clf__C=1.4600960718420557, clf__loss=hinge, score=0.036231884057971016, total=   0.8s\n",
      "[CV] clf__C=1.4600960718420557, clf__loss=hinge ......................\n"
     ]
    },
    {
     "name": "stderr",
     "output_type": "stream",
     "text": [
      "/home/desgab/.local/easybuild/software/2017/Core/miniconda3/4.3.27/envs/comp551/lib/python3.6/site-packages/sklearn/svm/base.py:931: ConvergenceWarning: Liblinear failed to converge, increase the number of iterations.\n",
      "  \"the number of iterations.\", ConvergenceWarning)\n",
      "[Parallel(n_jobs=1)]: Done   2 out of   2 | elapsed:    1.6s remaining:    0.0s\n"
     ]
    },
    {
     "name": "stdout",
     "output_type": "stream",
     "text": [
      "[CV]  clf__C=1.4600960718420557, clf__loss=hinge, score=0.04363636363636364, total=   0.7s\n",
      "[CV] clf__C=1.4600190730326272, clf__loss=squared_hinge ..............\n"
     ]
    },
    {
     "name": "stderr",
     "output_type": "stream",
     "text": [
      "/home/desgab/.local/easybuild/software/2017/Core/miniconda3/4.3.27/envs/comp551/lib/python3.6/site-packages/sklearn/svm/base.py:931: ConvergenceWarning: Liblinear failed to converge, increase the number of iterations.\n",
      "  \"the number of iterations.\", ConvergenceWarning)\n",
      "[Parallel(n_jobs=1)]: Done   3 out of   3 | elapsed:    2.7s remaining:    0.0s\n"
     ]
    },
    {
     "name": "stdout",
     "output_type": "stream",
     "text": [
      "[CV]  clf__C=1.4600190730326272, clf__loss=squared_hinge, score=0.03322259136212625, total=   1.0s\n",
      "[CV] clf__C=1.4600190730326272, clf__loss=squared_hinge ..............\n"
     ]
    },
    {
     "name": "stderr",
     "output_type": "stream",
     "text": [
      "/home/desgab/.local/easybuild/software/2017/Core/miniconda3/4.3.27/envs/comp551/lib/python3.6/site-packages/sklearn/svm/base.py:931: ConvergenceWarning: Liblinear failed to converge, increase the number of iterations.\n",
      "  \"the number of iterations.\", ConvergenceWarning)\n",
      "[Parallel(n_jobs=1)]: Done   4 out of   4 | elapsed:    3.6s remaining:    0.0s\n",
      "[Parallel(n_jobs=1)]: Done   4 out of   4 | elapsed:    3.6s finished\n"
     ]
    },
    {
     "name": "stdout",
     "output_type": "stream",
     "text": [
      "[CV]  clf__C=1.4600190730326272, clf__loss=squared_hinge, score=0.04285714285714286, total=   0.9s\n"
     ]
    },
    {
     "name": "stderr",
     "output_type": "stream",
     "text": [
      "/home/desgab/.local/easybuild/software/2017/Core/miniconda3/4.3.27/envs/comp551/lib/python3.6/site-packages/sklearn/svm/base.py:931: ConvergenceWarning: Liblinear failed to converge, increase the number of iterations.\n",
      "  \"the number of iterations.\", ConvergenceWarning)\n"
     ]
    }
   ],
   "source": [
    "'''\n",
    "Searching for hyperparameters with Randomized search\n",
    "'''\n",
    "\n",
    "params = {\"clf__C\": uniform(0.5, 1.5),\n",
    "          \"clf__loss\": ['squared_hinge', 'hinge']}\n",
    "\n",
    "seed = 551 # Setting a constant seed for repeatability. min_df\n",
    "num_iter=2\n",
    "cv=2 #number of cross-validation folds\n",
    "pipe=pipe_LinearSVC \n",
    "\n",
    "random_search = RandomizedSearchCV(pipe, param_distributions = params, scoring='f1',cv=cv, verbose = 10, random_state = seed, n_iter = num_iter)\n",
    "random_search.fit(X, Y)\n",
    "\n",
    "#getting cross validation results\n",
    "results=random_search.cv_results_\n",
    "data = {\"clf__C\": results.get('param_clf__C').data,\n",
    "          \"clf__loss\": results.get('param_clf__loss').data,\n",
    "          \"mean_test_score\": results.get('mean_test_score').data,}\n",
    "\n"
   ]
  },
  {
   "cell_type": "markdown",
   "metadata": {},
   "source": [
    "***MAKING 5-FOLD CROSS-VALIDATION"
   ]
  },
  {
   "cell_type": "code",
   "execution_count": null,
   "metadata": {},
   "outputs": [],
   "source": [
    "from sklearn.model_selection import cross_val_score\n",
    "LR_scores=cross_val_score(pipe_logistic_regression, all_X_train, all_Y_train, scoring='accuracy', cv=5)\n",
    "print(LR_scores)"
   ]
  }
 ],
 "metadata": {
  "kernelspec": {
   "display_name": "Python 3",
   "language": "python",
   "name": "python3"
  },
  "language_info": {
   "codemirror_mode": {
    "name": "ipython",
    "version": 3
   },
   "file_extension": ".py",
   "mimetype": "text/x-python",
   "name": "python",
   "nbconvert_exporter": "python",
   "pygments_lexer": "ipython3",
   "version": "3.6.8"
  }
 },
 "nbformat": 4,
 "nbformat_minor": 2
}
